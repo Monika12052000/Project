{
 "cells": [
  {
   "cell_type": "markdown",
   "id": "c4b1b011",
   "metadata": {},
   "source": [
    "# Module 1- If-Else Assignment\n",
    "\n",
    "Problem Statement:\n",
    "You work in XYZ Corporation as a Data Analyst. Your company has told you to work with the if-else condition.\n",
    "\n",
    "Tasks To Be Performed:\n",
    "\n",
    "Input the values of a and b as 10 and 20 respectively. Now check if a is greater or b is greater using if condition. Think about all the edge cases, and print the statements accordingly"
   ]
  },
  {
   "cell_type": "code",
   "execution_count": 1,
   "id": "bd2f7f8a",
   "metadata": {},
   "outputs": [],
   "source": [
    "a = 10\n",
    "b = 20"
   ]
  },
  {
   "cell_type": "code",
   "execution_count": 2,
   "id": "32f2710d",
   "metadata": {},
   "outputs": [
    {
     "name": "stdout",
     "output_type": "stream",
     "text": [
      "20 is greater than 10\n"
     ]
    }
   ],
   "source": [
    "if a > b:\n",
    "    print(f\"{a} is greater than {b}\")\n",
    "elif a < b:\n",
    "    print(f\"{b} is greater than {a}\")\n",
    "else:\n",
    "    print(f\"{a} and {b} are equal\")"
   ]
  },
  {
   "cell_type": "code",
   "execution_count": null,
   "id": "2c44b1af",
   "metadata": {},
   "outputs": [],
   "source": []
  },
  {
   "cell_type": "markdown",
   "id": "da1b7e9d",
   "metadata": {},
   "source": [
    "# Module 2 - Conditional Statements Assignment\n",
    "\n",
    "Problem Statement:\n",
    "You work in XYZ Corporation as a Data Analyst. Your company has told you to work with the if-else condition.\n",
    "\n",
    "Tasks To Be Performed:\n",
    "\n",
    "Take three user inputs and print the greatest number from those inputs using if-else condition. Edge cases, if any, should also be"
   ]
  },
  {
   "cell_type": "code",
   "execution_count": 3,
   "id": "685731ea",
   "metadata": {},
   "outputs": [
    {
     "name": "stdout",
     "output_type": "stream",
     "text": [
      "Enter the first number: 10\n",
      "Enter the second number: 45\n",
      "Enter the third number: 50\n",
      "The greatest number is: 50.0\n"
     ]
    }
   ],
   "source": [
    "try:\n",
    "    num1 = float(input(\"Enter the first number: \"))\n",
    "    num2 = float(input(\"Enter the second number: \"))\n",
    "    num3 = float(input(\"Enter the third number: \"))\n",
    "except ValueError:\n",
    "    print(\"Invalid input. Please enter valid numerical values.\")\n",
    "    exit()\n",
    "\n",
    "# Check and print the greatest number using if-else conditions\n",
    "if num1 > num2 and num1 > num3:\n",
    "    print(f\"The greatest number is: {num1}\")\n",
    "elif num2 > num1 and num2 > num3:\n",
    "    print(f\"The greatest number is: {num2}\")\n",
    "elif num3 > num1 and num3 > num2:\n",
    "    print(f\"The greatest number is: {num3}\")\n",
    "else:\n",
    "    print(\"All numbers are equal.\")"
   ]
  },
  {
   "cell_type": "code",
   "execution_count": null,
   "id": "81118a06",
   "metadata": {},
   "outputs": [],
   "source": []
  }
 ],
 "metadata": {
  "kernelspec": {
   "display_name": "Python 3 (ipykernel)",
   "language": "python",
   "name": "python3"
  },
  "language_info": {
   "codemirror_mode": {
    "name": "ipython",
    "version": 3
   },
   "file_extension": ".py",
   "mimetype": "text/x-python",
   "name": "python",
   "nbconvert_exporter": "python",
   "pygments_lexer": "ipython3",
   "version": "3.11.4"
  }
 },
 "nbformat": 4,
 "nbformat_minor": 5
}
