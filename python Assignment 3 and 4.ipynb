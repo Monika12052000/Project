{
 "cells": [
  {
   "cell_type": "markdown",
   "id": "5cb24612",
   "metadata": {},
   "source": [
    "# module 3 - Loops Assignment"
   ]
  },
  {
   "cell_type": "markdown",
   "id": "792eec03",
   "metadata": {},
   "source": [
    "# Problem Statement:\n",
    "    \n",
    "You work in XYZ Corporation as a Data Analyst. Your company has told you to\n",
    "work with the looping statements.\n",
    "Tasks To Be Performed:\n",
    "    \n",
    "1. Print the numbers from 1 to 10 using while loop.\n"
   ]
  },
  {
   "cell_type": "code",
   "execution_count": 1,
   "id": "ff5563c6",
   "metadata": {},
   "outputs": [
    {
     "name": "stdout",
     "output_type": "stream",
     "text": [
      "1\n",
      "2\n",
      "3\n",
      "4\n",
      "5\n",
      "6\n",
      "7\n",
      "8\n",
      "9\n",
      "10\n"
     ]
    }
   ],
   "source": [
    "num = 1\n",
    "\n",
    "# Use a while loop to print numbers from 1 to 10\n",
    "while num <= 10:\n",
    "    print(num)\n",
    "    num += 1"
   ]
  },
  {
   "cell_type": "code",
   "execution_count": null,
   "id": "977befbe",
   "metadata": {},
   "outputs": [],
   "source": []
  },
  {
   "cell_type": "markdown",
   "id": "c6e0047f",
   "metadata": {},
   "source": [
    "# Module 4 - Loops Assignment"
   ]
  },
  {
   "cell_type": "markdown",
   "id": "dbae4a80",
   "metadata": {},
   "source": [
    "# Problem Statement:\n",
    "\n",
    "You work in XYZ Corporation as a Data Analyst. Your company has told you to\n",
    "work with the looping statements.\n",
    "\n",
    "Tasks To Be Performed:\n",
    "\n",
    "1. Create a list that has 10, 23, 4, 26, 4, 75, 24, 54 values and with the help\n",
    "of while loop fetch the even numbers and print the num"
   ]
  },
  {
   "cell_type": "code",
   "execution_count": 2,
   "id": "6336c637",
   "metadata": {},
   "outputs": [
    {
     "name": "stdout",
     "output_type": "stream",
     "text": [
      "10\n",
      "4\n",
      "26\n",
      "4\n",
      "24\n",
      "54\n"
     ]
    }
   ],
   "source": [
    "# Create a list\n",
    "numbers = [10, 23, 4, 26, 4, 75, 24, 54]\n",
    "\n",
    "# Initialize a variable\n",
    "index = 0\n",
    "\n",
    "# Use a while loop to fetch and print even numbers\n",
    "while index < len(numbers):\n",
    "    if numbers[index] % 2 == 0:\n",
    "        print(numbers[index])\n",
    "    index += 1"
   ]
  },
  {
   "cell_type": "code",
   "execution_count": null,
   "id": "58468beb",
   "metadata": {},
   "outputs": [],
   "source": []
  }
 ],
 "metadata": {
  "kernelspec": {
   "display_name": "Python 3 (ipykernel)",
   "language": "python",
   "name": "python3"
  },
  "language_info": {
   "codemirror_mode": {
    "name": "ipython",
    "version": 3
   },
   "file_extension": ".py",
   "mimetype": "text/x-python",
   "name": "python",
   "nbconvert_exporter": "python",
   "pygments_lexer": "ipython3",
   "version": "3.11.4"
  }
 },
 "nbformat": 4,
 "nbformat_minor": 5
}
